{
 "cells": [
  {
   "cell_type": "code",
   "execution_count": null,
   "metadata": {},
   "outputs": [],
   "source": [
    "# Copyright (C) 2019  Communication Network Security Laboratory, SSU, Seoul\n",
    "\n",
    "# This program is free software; you can redistribute it and/or modify\n",
    "# it under the terms of the GNU General Public License as published by\n",
    "# the Free Software Foundation; either version 2 of the License, or\n",
    "# (at your option) any later version.\n",
    "\n",
    "# This program is distributed in the hope that it will be useful,\n",
    "# but WITHOUT ANY WARRANTY; without even the implied warranty of\n",
    "# MERCHANTABILITY or FITNESS FOR A PARTICULAR PURPOSE.  See the\n",
    "# GNU General Public License for more details."
   ]
  },
  {
   "cell_type": "markdown",
   "metadata": {},
   "source": [
    "# Integration Code"
   ]
  },
  {
   "cell_type": "markdown",
   "metadata": {},
   "source": [
    "In order to check the output of each approaches (DEX, Manifest, Assets) as well as integrated results, we first choose the list of trained & tested datasets (501 Normal & 501 Packer) that generated from under-sampling method in DEX analysis. With those datasets, we also applied to Assets and Manifest to get the output.   "
   ]
  },
  {
   "cell_type": "code",
   "execution_count": 1,
   "metadata": {},
   "outputs": [],
   "source": [
    "import os\n",
    "import configparser\n",
    "import pandas as pd\n",
    "import numpy as np\n",
    "import matplotlib.pyplot as plt\n",
    "import seaborn as sns\n",
    "from sklearn.model_selection import train_test_split\n",
    "\n",
    "BASE_DIR=\"dataset/kaggle/\""
   ]
  },
  {
   "cell_type": "markdown",
   "metadata": {},
   "source": [
    "Model for ByteCode"
   ]
  },
  {
   "cell_type": "code",
   "execution_count": 2,
   "metadata": {},
   "outputs": [],
   "source": [
    "class Bytecode_FeatureModel(object):\n",
    "    \"\"\"Model for classification.\"\"\"\n",
    "\n",
    "    def __init__(self):\n",
    "        \"\"\"Init.\"\"\"\n",
    "        from sklearn.feature_extraction.text import CountVectorizer\n",
    "        from sklearn.feature_extraction.text import TfidfTransformer\n",
    "\n",
    "        self.count_vect = CountVectorizer()\n",
    "        self.tfidf_transformer = TfidfTransformer()\n",
    "        config = configparser.ConfigParser()\n",
    "        config.read(\"config\")\n",
    "        self.bytecode_dir = config.get(\"Data\", \"Bytecode\")\n",
    "\n",
    "    def train_knn(self, X_train, y_train, X_test, neighbors=4):\n",
    "        from sklearn.neighbors import KNeighborsClassifier\n",
    "        knn_model = KNeighborsClassifier(algorithm='auto', leaf_size=30, metric='minkowski',\n",
    "           metric_params=None, n_jobs=1, n_neighbors=neighbors, p=2,\n",
    "           weights='uniform')\n",
    "        # knn_model = KNeighborsClassifier(n_neighbors=neighbors)\n",
    "        knn_model.fit(X_train, y_train)\n",
    "        y_predicted = knn_model.predict(X_test)\n",
    "        return y_predicted\n",
    "    \n",
    "    def train_svm(self, X_train, y_train, X_test, g='scale'):\n",
    "        from sklearn import svm\n",
    "        clf = svm.SVC(gamma=g)\n",
    "        clf.fit(X, y)\n",
    "        y_predicted = clf.predict(X_test)\n",
    "        return y_predicted\n",
    "                \n",
    "    def train_naiveBayes(self, features, labels, test_v):\n",
    "        \"\"\"Train with naiveBayes.\"\"\"\n",
    "        from sklearn.model_selection import train_test_split\n",
    "        from sklearn.naive_bayes import MultinomialNB\n",
    "        X_train, X_test, y_train, y_test = train_test_split(features,\n",
    "                                                            labels,\n",
    "                                                            random_state=8586)\n",
    "        X_train_counts = self.count_vect.fit_transform(X_train)\n",
    "        X_train_tfidf = self.tfidf_transformer.fit_transform(X_train_counts)\n",
    "        self.clf = MultinomialNB().fit(X_train_tfidf, y_train)\n",
    "        return self.clf.predict(self.count_vect.transform([test_v]))\n",
    "    \n",
    "def plot_2d_space(X, y, label='Classes'):   \n",
    "    colors = ['#1F77B4', '#FF7F0E']\n",
    "    markers = ['o', 's']\n",
    "    for l, c, m in zip(np.unique(y), colors, markers):\n",
    "        plt.scatter(\n",
    "            X[y==l, 0],\n",
    "            X[y==l, 1],\n",
    "            c=c, label=l, marker=m\n",
    "        )\n",
    "    plt.title(label)\n",
    "    plt.legend(loc='upper right')\n",
    "    plt.show()"
   ]
  },
  {
   "cell_type": "markdown",
   "metadata": {},
   "source": [
    "# STEP 1: Get Dataframe of Bytecode (MAIN DATASET) \n",
    "\n",
    "--- THE FOLLOWING STEPS HAVE BEEN RUN AND OUTPUT DATASET AS PICKLE \n",
    "\n",
    "TURN THE CODE SECTION INTO CODE IF YOU WANT TO RUN THE PROCESS AGAIN"
   ]
  },
  {
   "cell_type": "code",
   "execution_count": 3,
   "metadata": {},
   "outputs": [],
   "source": [
    "### CODE - GET BYTECODE DATASET\n",
    "config = configparser.ConfigParser()\n",
    "config.read(\"config\")\n",
    "bytecode_dir = config.get(\"Data\", \"Bytecode\") \n",
    "total_dir = config.get(\"Data\", \"Total\") \n",
    "\n",
    "all_df = pd.DataFrame()\n",
    "for f in os.listdir(bytecode_dir):\n",
    "    if all(x in f for x in ['df_packer']):\n",
    "        df = pd.read_json(os.path.join(bytecode_dir, f))\n",
    "        all_df = all_df.append(df)\n",
    "for f in os.listdir(total_dir):\n",
    "    if all(x in f for x in ['W64', 'uvs']):\n",
    "        df = pd.read_json(os.path.join(total_dir, f))\n",
    "        all_df = all_df.append(df)\n",
    "\n",
    "packer_df = all_df[all_df['packer'] != \"Normal\"]\n",
    "normal_df = all_df[all_df['packer'] == \"Normal\"]"
   ]
  },
  {
   "cell_type": "markdown",
   "metadata": {},
   "source": [
    "### CODE - CHECK PACKER PLOT\n",
    "ax = sns.countplot(y=\"packer\", data=packer_df)"
   ]
  },
  {
   "cell_type": "code",
   "execution_count": 4,
   "metadata": {},
   "outputs": [
    {
     "name": "stdout",
     "output_type": "stream",
     "text": [
      "Normal (0): 15749\n",
      "Packer (1): 501\n",
      "Proportion: 31.44 : 1\n"
     ]
    },
    {
     "data": {
      "image/png": "[encoded data removed]",
      "text/plain": [
       "<Figure size 432x288 with 1 Axes>"
      ]
     },
     "metadata": {
      "needs_background": "light"
     },
     "output_type": "display_data"
    }
   ],
   "source": [
    "### CODE - FOR TRANSFORMING THE DATASET \n",
    "from sklearn.model_selection import train_test_split\n",
    "from collections import Counter\n",
    "from sklearn import preprocessing\n",
    "\n",
    "def lamda_func(x):\n",
    "    output = np.zeros(11, dtype=int)\n",
    "    for i in x:\n",
    "        test = np.sum([output[i], 1], dtype=int)\n",
    "        output[i] = test\n",
    "    return output\n",
    "\n",
    "def packerization(x):\n",
    "    if x != \"Normal\":\n",
    "        return \"Packer\"\n",
    "    return x\n",
    "\n",
    "#### Packerlization and Under-sampling\n",
    "\n",
    "lb = preprocessing.LabelEncoder()\n",
    "all_df['packer_label'] = all_df['packer']\n",
    "all_df['packer_label'] = all_df['packer_label'].apply(packerization)\n",
    "all_df['packer_label'] = lb.fit_transform(all_df['packer_label'])\n",
    "all_df['binned'] = all_df['feature'].apply(lamda_func)\n",
    "\n",
    "##### Create X, y\n",
    "X = all_df['binned']\n",
    "y = all_df['packer_label']\n",
    "X = np.array(list(X), dtype=np.int)\n",
    "y = np.array(list(y), dtype=np.int)\n",
    "\n",
    "target_count = all_df.packer_label.value_counts()\n",
    "print('Normal (0):', target_count[0])\n",
    "print('Packer (1):', target_count[1])\n",
    "print('Proportion:', round(target_count[0] / target_count[1], 2), ': 1')\n",
    "\n",
    "target_count.plot(kind='bar', title='Count (target)');\n",
    "plt.savefig(os.path.join(BASE_DIR, 'bytecode_before_undersampling.pdf'))"
   ]
  },
  {
   "cell_type": "code",
   "execution_count": 5,
   "metadata": {},
   "outputs": [
    {
     "name": "stdout",
     "output_type": "stream",
     "text": [
      "Random under-sampling:\n",
      "0    501\n",
      "1    501\n",
      "Name: packer_label, dtype: int64\n"
     ]
    },
    {
     "data": {
      "image/png": "[encoded data removed]",
      "text/plain": [
       "<Figure size 432x288 with 1 Axes>"
      ]
     },
     "metadata": {
      "needs_background": "light"
     },
     "output_type": "display_data"
    }
   ],
   "source": [
    "### CODE - Random under-sampling\n",
    "count_class_0, count_class_1 = all_df.packer_label.value_counts()\n",
    "\n",
    "df_class_0 = all_df[all_df['packer_label'] == 0]\n",
    "df_class_1 = all_df[all_df['packer_label'] == 1]\n",
    "\n",
    "df_class_0_under = df_class_0.sample(count_class_1, random_state=8686)\n",
    "df_test_under = pd.concat([df_class_0_under, df_class_1], axis=0)\n",
    "\n",
    "print('Random under-sampling:')\n",
    "print(df_test_under.packer_label.value_counts(sort=False))\n",
    "\n",
    "df_test_under.packer_label.value_counts(sort=False).plot(kind='bar', title='Count (target)');\n",
    "plt.savefig(os.path.join(BASE_DIR, 'bytecode_after_undersampling.pdf'))"
   ]
  },
  {
   "cell_type": "markdown",
   "metadata": {},
   "source": [
    "count_packer = 0\n",
    "count_normal = 0\n",
    "saved_packer_df = df_test_under[df_test_under['packer_label'] != 0]\n",
    "saved_normal_df = df_test_under[df_test_under['packer_label'] != 1]\n",
    "for app in df_class_0['md5'].unique():\n",
    "    count_packer += 1\n",
    "for app in df_class_1['md5'].unique():\n",
    "    count_normal += 1"
   ]
  },
  {
   "cell_type": "markdown",
   "metadata": {},
   "source": [
    "# CALCULATION: Split The Sample And Store Into Files"
   ]
  },
  {
   "cell_type": "markdown",
   "metadata": {},
   "source": [
    "This step allows us to get the data without going through the previous steps. \n",
    "\n",
    "##### Note: \n",
    "Although number of dataset are same (501/501). The number of app can not be the same. (468/499).\n",
    "Since the sampling method are based on whole dataset which contains duplicated md5 hashes (more than one DEX in one file). We tried to extract the md5 and tried to under-sampling the normal dataset, however that method resulted in lost of information. "
   ]
  },
  {
   "cell_type": "markdown",
   "metadata": {},
   "source": [
    "# DEBUG ONLY\n",
    "\n",
    "###### Create X, y data\n",
    "#def test_split(df_test_under, rt=8585):\n",
    "    X = df_test_under['binned'] \n",
    "    y = df_test_under['packer_label']\n",
    "    X = np.array(list(X), dtype=np.int)\n",
    "    y = np.array(list(y), dtype=np.int)\n",
    "    X_train, X_test, y_train, y_test = train_test_split(X,\n",
    "                                                        y,\n",
    "                                                        test_size=0.4,random_state=rt)\n",
    "    return X_train, X_test, y_train, y_test\n",
    "\n",
    "BASE_DIR=\"dataset/kaggle/\"\n",
    "\n",
    "###### Please ensure this file exists, or else please uncomment the above CODE section and run again\n",
    "INTEGRATED_FILE = os.path.join(BASE_DIR,\"integrated_df.pickle\") \n",
    "integrated_df = pd.read_pickle(INTEGRATED_FILE)\n",
    "saved_packer_df = integrated_df[integrated_df['packer_label'] != 0]\n",
    "saved_normal_df = integrated_df[integrated_df['packer_label'] != 1]\n",
    "\n",
    "count_packer = 0\n",
    "count_normal = 0\n",
    "for app in saved_packer_df['md5'].unique():\n",
    "    count_packer += 1\n",
    "for app in saved_normal_df['md5'].unique():\n",
    "    count_normal += 1\n",
    "\n",
    "print(\"Total Num of Packer App: %d\" % count_packer)\n",
    "print(\"Total Num of Normal App: %d\" % count_normal)"
   ]
  },
  {
   "cell_type": "markdown",
   "metadata": {},
   "source": [
    "# GET TRAIN\n",
    "\n",
    "Ensure that the md5 of packer apps exists on all approaches and provides training set with test size 0.4 based on md5 list. "
   ]
  },
  {
   "cell_type": "markdown",
   "metadata": {},
   "source": [
    "# CODE - CHECK PACKER\n",
    "\n",
    "#### CHECK Common md5 from both assets packer, DEX, and Manifest packer\n",
    "ASSETS_DIR = \"dataset/kaggle/assets/\"\n",
    "\n",
    "SPLITTED_PACKER_FILE = os.path.join(BASE_DIR,\"splited_packer_df.pickle\")\n",
    "train.to_pickle(SPLITTED_PACKER_FILE)\n",
    "\n",
    "MANIFEST_FILE = os.path.join(BASE_DIR,\"manifest/total_manifest.json\")\n",
    "final_manifest_df = pd.read_json(MANIFEST_FILE)\n",
    "final_packer_assets = os.path.join(ASSETS_DIR, \"final_packer_df_24012019.pickle\")\n",
    "final_packer_df = pd.read_pickle(final_packer_assets)\n",
    "md5_check = np.intersect1d(saved_packer_df['md5'].unique(), final_packer_df['app_md5'].unique()).tolist()\n",
    "md5_train_final = np.intersect1d(md5_check, final_manifest_df['md5'].unique()).tolist()"
   ]
  },
  {
   "cell_type": "markdown",
   "metadata": {},
   "source": [
    "# CODE - THIS CODE IS FOR SPLITING OF PACKER MD5. \n",
    "\n",
    "### It is used for other approaches\n",
    "\n",
    "train_df = pd.DataFrame()\n",
    "##### PRINT MD5 FOR TRAIN\n",
    "for md5 in md5_train_final:\n",
    "    train_df = train_df.append(saved_packer_df[saved_packer_df['md5'] == md5], ignore_index=True)\n",
    "\n",
    "##### MAKE A DATASET WITH PACKER INFORMATION ONLY, AND SPLIT INTO TRAIN AND TEST\n",
    "for_split_df = train_df[['md5','packer']]\n",
    "train, test = train_test_split(for_split_df,\n",
    "                               test_size=0.4,random_state=8586)\n",
    "\n",
    "##### Save For Other Approaches To Use\n",
    "train.to_pickle(os.path.join(BASE_DIR, \"train_packer_md5.pickle\"))\n",
    "test.to_pickle(os.path.join(BASE_DIR, \"test_packer_md5.pickle\"))"
   ]
  },
  {
   "cell_type": "markdown",
   "metadata": {},
   "source": [
    "#### Collect Train&Test Packer Dataset"
   ]
  },
  {
   "cell_type": "code",
   "execution_count": 6,
   "metadata": {},
   "outputs": [
    {
     "name": "stdout",
     "output_type": "stream",
     "text": [
      "Packer Train: 286\n",
      "Packer Test: 201\n"
     ]
    }
   ],
   "source": [
    "train = pd.DataFrame()\n",
    "test = pd.DataFrame()\n",
    "\n",
    "if os.path.isfile(os.path.join(BASE_DIR, \"train_packer_md5.pickle\")):\n",
    "    train = pd.read_pickle(os.path.join(BASE_DIR, \"train_packer_md5.pickle\"))\n",
    "if os.path.isfile(os.path.join(BASE_DIR, \"test_packer_md5.pickle\")):\n",
    "    test = pd.read_pickle(os.path.join(BASE_DIR, \"test_packer_md5.pickle\"))\n",
    "print(\"Packer Train: %d\" % len(train.md5.unique()))\n",
    "print(\"Packer Test: %d\" % len(test.index))\n",
    "\n",
    "INTEGRATED_FILE = os.path.join(BASE_DIR,\"integrated_df.pickle\") \n",
    "integrated_df = pd.read_pickle(INTEGRATED_FILE)\n",
    "\n",
    "merged_train_df = pd.merge(integrated_df, train, how='inner', on=['md5']) # Merged to final train set\n",
    "merged_test_df = pd.merge(integrated_df, test, how='inner', on=['md5']) # Merged to final test set"
   ]
  },
  {
   "cell_type": "markdown",
   "metadata": {},
   "source": [
    "#### Collect normal dataset"
   ]
  },
  {
   "cell_type": "code",
   "execution_count": 7,
   "metadata": {},
   "outputs": [
    {
     "name": "stdout",
     "output_type": "stream",
     "text": [
      "Normal train: 300\n",
      "Normal test: 201\n"
     ]
    }
   ],
   "source": [
    "saved_normal_df = integrated_df[integrated_df['packer_label'] != 1]\n",
    "\n",
    "train_normal, test_normal = train_test_split(saved_normal_df,\n",
    "                               test_size=0.4,random_state=8586)\n",
    "\n",
    "print(\"Normal train: %d\" % len(train_normal.index))\n",
    "print(\"Normal test: %d\" % len(test_normal.index))"
   ]
  },
  {
   "cell_type": "code",
   "execution_count": 8,
   "metadata": {},
   "outputs": [],
   "source": [
    "#### Merge normal and packer for SVM train\n",
    "input_train = merged_train_df.append(train_normal)\n",
    "input_test = merged_test_df.append(test_normal)"
   ]
  },
  {
   "cell_type": "markdown",
   "metadata": {},
   "source": [
    "## Turn into SVM Input"
   ]
  },
  {
   "cell_type": "code",
   "execution_count": 9,
   "metadata": {},
   "outputs": [],
   "source": [
    "def makeSVM(df):\n",
    "    X = df['binned'] \n",
    "    y = df['packer_label']\n",
    "    X = np.array(list(X), dtype=np.int)\n",
    "    y = np.array(list(y), dtype=np.int)\n",
    "    return X, y\n",
    "\n",
    "X_train, y_train = makeSVM(input_train)\n",
    "X_test, y_test = makeSVM(input_test)\n",
    "X = np.concatenate((X_train,X_test), axis=0)\n",
    "y = np.concatenate((y_train,y_test), axis=0)"
   ]
  },
  {
   "cell_type": "markdown",
   "metadata": {},
   "source": [
    "## DEX Analysis: Implementation on SVM Classification Prediction\n",
    "\n",
    "#### CHECK WITH GAMMA = 'scale'"
   ]
  },
  {
   "cell_type": "code",
   "execution_count": 10,
   "metadata": {},
   "outputs": [
    {
     "data": {
      "image/png": "[encoded data removed]",
      "text/plain": [
       "<Figure size 432x288 with 2 Axes>"
      ]
     },
     "metadata": {
      "needs_background": "light"
     },
     "output_type": "display_data"
    },
    {
     "name": "stdout",
     "output_type": "stream",
     "text": [
      "              precision    recall  f1-score   support\n",
      "\n",
      "      Normal       0.92      0.62      0.74       201\n",
      "      Packer       0.75      0.95      0.84       240\n",
      "\n",
      "   micro avg       0.80      0.80      0.80       441\n",
      "   macro avg       0.83      0.79      0.79       441\n",
      "weighted avg       0.83      0.80      0.80       441\n",
      "\n"
     ]
    }
   ],
   "source": [
    "def check_average_recall(X_train, X_test, y_train, y_test, gamma=\"scale\"):\n",
    "    from sklearn.metrics import classification_report\n",
    "    from sklearn.metrics import confusion_matrix\n",
    "\n",
    "    feature_model = Bytecode_FeatureModel()\n",
    "    y_pred = feature_model.train_svm(X_train, y_train, X_test, gamma)\n",
    "    conf_mat = confusion_matrix(y_test,y_pred)\n",
    "\n",
    "    labels = ['Normal', 'Packer']\n",
    "    fig = plt.figure()\n",
    "    ax = fig.add_subplot(111)\n",
    "    cax = ax.matshow(conf_mat, cmap=plt.cm.Blues)\n",
    "    fig.colorbar(cax)\n",
    "    ax.set_xticklabels([''] + labels)\n",
    "    ax.set_yticklabels([''] + labels)\n",
    "    plt.xlabel('Predicted')\n",
    "    plt.ylabel('Expected')\n",
    "    plt.show()\n",
    "    #plt.savefig(os.path.join(BASE_DIR, 'bytecode_matrix.pdf'))\n",
    "    print(classification_report(y_test, y_pred, target_names=['Normal','Packer']))\n",
    "    return y_pred\n",
    "\n",
    "y_pred = check_average_recall(X_train, X_test, y_train, y_test)"
   ]
  },
  {
   "cell_type": "markdown",
   "metadata": {},
   "source": [
    "Cross-Tab"
   ]
  },
  {
   "cell_type": "code",
   "execution_count": 11,
   "metadata": {},
   "outputs": [
    {
     "data": {
      "text/html": [
       "<div>\n",
       "<style scoped>\n",
       "    .dataframe tbody tr th:only-of-type {\n",
       "        vertical-align: middle;\n",
       "    }\n",
       "\n",
       "    .dataframe tbody tr th {\n",
       "        vertical-align: top;\n",
       "    }\n",
       "\n",
       "    .dataframe thead th {\n",
       "        text-align: right;\n",
       "    }\n",
       "</style>\n",
       "<table border=\"1\" class=\"dataframe\">\n",
       "  <thead>\n",
       "    <tr style=\"text-align: right;\">\n",
       "      <th>Predicted</th>\n",
       "      <th>Normal</th>\n",
       "      <th>Packer</th>\n",
       "      <th>All</th>\n",
       "    </tr>\n",
       "    <tr>\n",
       "      <th>Expected</th>\n",
       "      <th></th>\n",
       "      <th></th>\n",
       "      <th></th>\n",
       "    </tr>\n",
       "  </thead>\n",
       "  <tbody>\n",
       "    <tr>\n",
       "      <th>Normal</th>\n",
       "      <td>125</td>\n",
       "      <td>76</td>\n",
       "      <td>201</td>\n",
       "    </tr>\n",
       "    <tr>\n",
       "      <th>Packer</th>\n",
       "      <td>11</td>\n",
       "      <td>229</td>\n",
       "      <td>240</td>\n",
       "    </tr>\n",
       "    <tr>\n",
       "      <th>All</th>\n",
       "      <td>136</td>\n",
       "      <td>305</td>\n",
       "      <td>441</td>\n",
       "    </tr>\n",
       "  </tbody>\n",
       "</table>\n",
       "</div>"
      ],
      "text/plain": [
       "Predicted  Normal  Packer  All\n",
       "Expected                      \n",
       "Normal        125      76  201\n",
       "Packer         11     229  240\n",
       "All           136     305  441"
      ]
     },
     "execution_count": 11,
     "metadata": {},
     "output_type": "execute_result"
    }
   ],
   "source": [
    "# Change label back\n",
    "pd.crosstab(lb.inverse_transform(y_test), lb.inverse_transform(y_pred), \n",
    "            rownames=['Expected'], colnames=['Predicted'], margins=True)"
   ]
  },
  {
   "cell_type": "code",
   "execution_count": 12,
   "metadata": {},
   "outputs": [
    {
     "name": "stdout",
     "output_type": "stream",
     "text": [
      "# Tuning hyper-parameters for precision\n",
      "\n",
      "Best param: {'gamma': 'auto', 'C': 1}\n",
      "# Tuning hyper-parameters for recall\n",
      "\n",
      "Best param: {'gamma': 'auto', 'C': 1}\n"
     ]
    }
   ],
   "source": [
    "# Check with GridSearch CV\n",
    "from sklearn.model_selection import GridSearchCV\n",
    "from sklearn import svm\n",
    "#In case of classifier like knn the parameter to be tuned is n_neighbors\n",
    "parameters = {'C':[1, 10], 'gamma':[\"scale\", \"auto\"]}\n",
    "scores = ['precision', 'recall']\n",
    "\n",
    "for score in scores:\n",
    "    print(\"# Tuning hyper-parameters for %s\" % score)\n",
    "    print()\n",
    "    svc = svm.SVC(kernel=\"rbf\")\n",
    "    clf = GridSearchCV(svc, parameters, cv=5,\n",
    "                       scoring='%s_macro' % score)\n",
    "    clf.fit(X, y)\n",
    "    print(\"Best param: %s\" % clf.best_params_)\n"
   ]
  },
  {
   "cell_type": "markdown",
   "metadata": {},
   "source": [
    "#### CHECK WITH GAMMA = 'auto'"
   ]
  },
  {
   "cell_type": "code",
   "execution_count": 13,
   "metadata": {},
   "outputs": [
    {
     "data": {
      "image/png": "[encoded data removed]",
      "text/plain": [
       "<Figure size 432x288 with 2 Axes>"
      ]
     },
     "metadata": {
      "needs_background": "light"
     },
     "output_type": "display_data"
    },
    {
     "name": "stdout",
     "output_type": "stream",
     "text": [
      "              precision    recall  f1-score   support\n",
      "\n",
      "      Normal       0.99      0.97      0.98       201\n",
      "      Packer       0.97      0.99      0.98       240\n",
      "\n",
      "   micro avg       0.98      0.98      0.98       441\n",
      "   macro avg       0.98      0.98      0.98       441\n",
      "weighted avg       0.98      0.98      0.98       441\n",
      "\n"
     ]
    }
   ],
   "source": [
    "y_pred = check_average_recall(X_train, X_test, y_train, y_test, \"auto\")"
   ]
  },
  {
   "cell_type": "code",
   "execution_count": 14,
   "metadata": {},
   "outputs": [
    {
     "data": {
      "text/html": [
       "<div>\n",
       "<style scoped>\n",
       "    .dataframe tbody tr th:only-of-type {\n",
       "        vertical-align: middle;\n",
       "    }\n",
       "\n",
       "    .dataframe tbody tr th {\n",
       "        vertical-align: top;\n",
       "    }\n",
       "\n",
       "    .dataframe thead th {\n",
       "        text-align: right;\n",
       "    }\n",
       "</style>\n",
       "<table border=\"1\" class=\"dataframe\">\n",
       "  <thead>\n",
       "    <tr style=\"text-align: right;\">\n",
       "      <th>Predict</th>\n",
       "      <th>Normal</th>\n",
       "      <th>Packer</th>\n",
       "      <th>All</th>\n",
       "    </tr>\n",
       "    <tr>\n",
       "      <th>Expected</th>\n",
       "      <th></th>\n",
       "      <th></th>\n",
       "      <th></th>\n",
       "    </tr>\n",
       "  </thead>\n",
       "  <tbody>\n",
       "    <tr>\n",
       "      <th>Normal</th>\n",
       "      <td>194</td>\n",
       "      <td>7</td>\n",
       "      <td>201</td>\n",
       "    </tr>\n",
       "    <tr>\n",
       "      <th>Packer</th>\n",
       "      <td>2</td>\n",
       "      <td>238</td>\n",
       "      <td>240</td>\n",
       "    </tr>\n",
       "    <tr>\n",
       "      <th>All</th>\n",
       "      <td>196</td>\n",
       "      <td>245</td>\n",
       "      <td>441</td>\n",
       "    </tr>\n",
       "  </tbody>\n",
       "</table>\n",
       "</div>"
      ],
      "text/plain": [
       "Predict   Normal  Packer  All\n",
       "Expected                     \n",
       "Normal       194       7  201\n",
       "Packer         2     238  240\n",
       "All          196     245  441"
      ]
     },
     "execution_count": 14,
     "metadata": {},
     "output_type": "execute_result"
    }
   ],
   "source": [
    "pd.crosstab(lb.inverse_transform(y_test), lb.inverse_transform(y_pred), \n",
    "            rownames=['Expected'], colnames=['Predict'], margins=True)"
   ]
  },
  {
   "cell_type": "markdown",
   "metadata": {},
   "source": [
    "## Separate Test For DEX \n",
    "\n",
    "For finding the misjudged md5 (Using \"auto\" gamma of SVM)"
   ]
  },
  {
   "cell_type": "code",
   "execution_count": 15,
   "metadata": {},
   "outputs": [
    {
     "name": "stdout",
     "output_type": "stream",
     "text": [
      "{'85cdb59a8a0028441cf4d59cf94a5a67': '1:0', '80be76c7fbe7cbf1f7c24b9d4823bac2': '1:0', '1a3b2f1bb2c12e484c9dc62742400065': '1:0', '3532c52aebd9fed430c181f1f191b4fd': '1:0', '3ac485e4096b4d1cb00791feb45b0fec': '1:0', '91eb36a0bfe2684eaa4671144eeee7ab': '1:0', 'de94239804f274e1cc07b7a147f0b98b': '0:1', '27541cea57b531e418dc7d8ad4a0b077': '1:0', '06e5793bddbfb4858f7b0f0a3871cc06': '0:1'}\n"
     ]
    }
   ],
   "source": [
    "import json\n",
    "dex_output = {}\n",
    "PREDICTION_DIR = os.path.join(BASE_DIR, \"predictions\")\n",
    "if os.path.isfile(os.path.join(PREDICTION_DIR, \"dex_predictions\")):\n",
    "    with open(os.path.join(PREDICTION_DIR, \"dex_predictions\")) as data_file:    \n",
    "        dex_output = json.load(data_file)\n",
    "else:    \n",
    "    # CHECK WITH gamma = auto\n",
    "    def predict(X_train, X_test, y_train, y_test, gamma=\"auto\"):\n",
    "        from sklearn.metrics import classification_report\n",
    "        from sklearn.metrics import confusion_matrix\n",
    "\n",
    "        feature_model = Bytecode_FeatureModel()\n",
    "        y_pred = feature_model.train_svm(X_train, y_train, X_test, gamma)\n",
    "        return y_pred\n",
    "\n",
    "    md5_test = input_test.md5.unique()\n",
    "    for md5 in md5_test:\n",
    "        test_app_df = input_test[input_test.md5 == md5]\n",
    "        X_app, y_app = makeSVM(test_app_df)\n",
    "        out = predict(X_train, X_app, y_train, y_app, gamma=\"auto\")\n",
    "        if out[0] != y_app[0]:\n",
    "            print(\"Predicted: %s\" %  out[0])\n",
    "            print(\"Expected: %s\" % y_app[0])\n",
    "            print(\"Md5: %s\" % md5)\n",
    "            dex_output[md5]  = \"%s:%s\" % (out[0], y_app[0]) # Predict, expected\n",
    "    # Output results\n",
    "    with open(os.path.join(PREDICTION_DIR, \"dex_predictions\"), 'w') as fp:\n",
    "        json.dump(dex_output, fp)\n",
    "        \n",
    "print(dex_output)"
   ]
  },
  {
   "cell_type": "markdown",
   "metadata": {},
   "source": [
    "# DEX CLASSIFICATION"
   ]
  },
  {
   "cell_type": "markdown",
   "metadata": {},
   "source": [
    "Collect normal dataset md5"
   ]
  },
  {
   "cell_type": "code",
   "execution_count": 16,
   "metadata": {},
   "outputs": [],
   "source": [
    "normal_test_md5 = test_normal[['md5','packer']]\n",
    "test_packer_md5 = merged_test_df[['md5', 'packer_x']]\n",
    "md5_list_packer = test_packer_md5.md5.unique()\n",
    "md5_list_normal = normal_test_md5.md5.unique()\n",
    "# Store md5_list_normal\n",
    "with open(os.path.join(BASE_DIR, \"md5_list_normal_integrated.pickle\"), 'w') as fp:\n",
    "        json.dump(list(md5_list_normal), fp)"
   ]
  },
  {
   "cell_type": "markdown",
   "metadata": {},
   "source": [
    "# MANIFEST CLASSIFICATION \n",
    "\n",
    "Getting output from manifest classification"
   ]
  },
  {
   "cell_type": "code",
   "execution_count": 17,
   "metadata": {},
   "outputs": [],
   "source": [
    "#PREDICT_NORMAL_FILE = os.path.join(MANIFEST_DIR, \"predict_normal_integrated_output.pickle\") # all\n",
    "#PREDICT_NORMAL_FILE_TN = os.path.join(MANIFEST_DIR, \"predict_normal_tn_integrated_output.pickle\") # True Negative\n",
    "#if os.path.isfile(PREDICT_NORMAL_FILE):\n",
    "#    with open(PREDICT_NORMAL_FILE, \"rb\") as f:\n",
    "#        predicted_manifest_df = pd.read_pickle(f)\n",
    "MANIFEST_DIR = os.path.join(BASE_DIR, \"manifest\")\n",
    "predicted_man = pd.DataFrame()\n",
    "if os.path.isfile(os.path.join(MANIFEST_DIR, \"predict_integrated_output.pickle\")):\n",
    "    predicted_man = pd.read_pickle(os.path.join(MANIFEST_DIR, \"predict_integrated_output.pickle\"))\n",
    "manifest_out = predicted_man.md5.unique()\n"
   ]
  },
  {
   "cell_type": "markdown",
   "metadata": {},
   "source": [
    "# ASSETS CLASSIFICATIONS"
   ]
  },
  {
   "cell_type": "code",
   "execution_count": 18,
   "metadata": {},
   "outputs": [],
   "source": [
    "ASSETS_DIR = os.path.join(BASE_DIR, \"assets\")\n",
    "PACKER_TEST_ASSETS_DF = os.path.join(ASSETS_DIR, \"packer_test_df_output_27012019_v5.pickle\")\n",
    "predicted_assets = pd.DataFrame()\n",
    "if os.path.isfile(PACKER_TEST_ASSETS_DF):\n",
    "    with open(PACKER_TEST_ASSETS_DF, \"rb\") as fd:\n",
    "        predicted_assets = pd.read_pickle(fd)\n",
    "\n",
    "md5_list_assets = predicted_assets.app_md5.unique()\n",
    "md5_list_assets_dex = set(md5_list_assets).intersection(md5_list_packer)\n",
    "wrong_assets_predict = predicted_assets[predicted_assets['predict'] != predicted_assets['tested']]\n",
    "correct_assets_predict = predicted_assets[~predicted_assets.app_md5.isin(wrong_assets_predict.app_md5)]\n",
    "assets_out =correct_assets_predict.app_md5.unique()"
   ]
  },
  {
   "cell_type": "markdown",
   "metadata": {},
   "source": [
    "# APKID CLASSIFICATIONS"
   ]
  },
  {
   "cell_type": "code",
   "execution_count": 19,
   "metadata": {},
   "outputs": [],
   "source": [
    "# APKID TEST\n",
    "def _exec(cmd, silent=False):\n",
    "    \"\"\"Execute shell\"\"\"\n",
    "    import subprocess  \n",
    "    channel = open(os.devnull, 'wb') if silent is True else subprocess.PIPE\n",
    "    p = subprocess.Popen(cmd, stdout=channel, stderr=channel, shell=True)\n",
    "    out, err = p.communicate()\n",
    "    if err:\n",
    "        print(err)\n",
    "    return out.decode(\"utf-8\").strip()\n",
    "\n",
    "STORE_APKID_PATH = os.path.join(BASE_DIR, \"predictions\")\n",
    "STORED_APKID_PACKER = os.path.join(STORE_APKID_PATH, \"apkid_out\")\n",
    "packers_mapping = {}\n",
    "if os.path.isfile(STORED_APKID_PACKER):\n",
    "    with open(STORED_APKID_PACKER,\"r\") as fd:\n",
    "        packers_mapping = json.load(fd)\n",
    "else:\n",
    "    PACKER_DIR = \"bypass_apkid\"\n",
    "    packers_list = os.listdir(PACKER_DIR)\n",
    "    for md5 in md5_list_packer:\n",
    "        matching = [s for s in packers_list if md5 in s]\n",
    "        if len(matching) > 0:\n",
    "            cmd = \"apkid %s | grep \\\"> packer\\\" | wc -l\" % os.path.join(PACKER_DIR, matching[0])\n",
    "            out = _exec(cmd).strip()\n",
    "            packers_mapping[md5] = out"
   ]
  },
  {
   "cell_type": "code",
   "execution_count": 20,
   "metadata": {},
   "outputs": [],
   "source": [
    "# Store packers_mapping\n",
    "#with open(STORED_APKID_PACKER, \"w\") as fd:\n",
    "#    json.dump(packers_mapping, fd)"
   ]
  },
  {
   "cell_type": "markdown",
   "metadata": {},
   "source": [
    "# MAKE A RESULTS TABLE FOR PACKER </br>\n",
    "Look like this\n",
    "\n",
    "|  MD5  |   DEX   |   MANIFEST   |   ASSETS  |  INTEGRATED | APKID  | </br>\n",
    "\n",
    "| ABCDE  |    0.97    |       90.30      |     95.89     |  (0.97+90.30+95.89)/3  |  1    | </br>\n"
   ]
  },
  {
   "cell_type": "code",
   "execution_count": 21,
   "metadata": {},
   "outputs": [
    {
     "name": "stdout",
     "output_type": "stream",
     "text": [
      "                                  md5   dex  manifest  assets  integrated  \\\n",
      "0    b465661fbae48cdabdf04374a6dfc36e  0.97       0.9    0.96    0.943333   \n",
      "1    818582bee441ffb7c8e1e536f628b343  0.97       0.9    0.96    0.943333   \n",
      "2    c9802a53a8c6fdf2b699f4c3313676f2  0.97       0.9    0.96    0.943333   \n",
      "3    9eca79138156355bb66d7b4e195e9f01  0.97       0.9    0.96    0.943333   \n",
      "4    8c29773135f3008ac3b5e3dd10353524  0.97       0.9    0.96    0.943333   \n",
      "5    5ee36d4b4c2674302d4df4622d5ddf99  0.97       0.9    0.96    0.943333   \n",
      "6    1effd6feadd1691ca2e2a8310d03aba0  0.97       0.9    0.96    0.943333   \n",
      "7    04717bd65e06dab0749b011afae55efa  0.97       0.9    0.96    0.943333   \n",
      "8    3ae61470ae9cd5f285a477ad90e1bf6a  0.97       0.9    0.96    0.943333   \n",
      "9    a46236cfac91a9da879a40c0ecadade9  0.97       0.9    0.96    0.943333   \n",
      "10   5d7dc7f097258c2b4cf1096944f93286  0.97       0.9    0.96    0.943333   \n",
      "11   119bf9ad791901a1d898b2ba05133c57  0.97       0.9    0.96    0.943333   \n",
      "12   d2e5d3946a55e93bf80812be9638d51a  0.97       0.9    0.96    0.943333   \n",
      "13   c21c5a701e3a14906795c295ca599db5  0.97       0.9    0.96    0.943333   \n",
      "14   c27d0f1cf90b1952bc1910329b8dad5c  0.97       0.9    0.96    0.943333   \n",
      "15   18b4cf081186806eb66a07182cb50037  0.97       0.9    0.96    0.943333   \n",
      "16   412cb7d29b1d6438beea0383552521ac  0.97       0.9    0.96    0.943333   \n",
      "17   caf4d41314854f1a22d897a82c73d3ff  0.97       0.9    0.96    0.943333   \n",
      "18   b22d1a08c59c66bb0c415a8e41837d6e  0.97       0.9    0.96    0.943333   \n",
      "19   174d7911c5383776210d0234d313e1ad  0.97       0.9    0.96    0.943333   \n",
      "20   96a6a77acc45421459301bce581ea12b  0.97       0.9    0.96    0.943333   \n",
      "21   bc7aa91373251c4788e09fa33e638e29  0.97       0.9    0.96    0.943333   \n",
      "22   b31bf005ae801ba34c411674e98ad453  0.97       0.9    0.96    0.943333   \n",
      "23   972e8de3d1eed6554b6f19a4ec0f249c  0.97       0.9    0.96    0.943333   \n",
      "24   5ed3d8944c670788df3bef803b74ca43  0.97       0.9    0.96    0.943333   \n",
      "25   6e4976478d73f56eaeb024a427f98962  0.97       0.9    0.96    0.943333   \n",
      "26   4c74a388c0f085c6b9123d647ab896c7  0.97       0.9    0.96    0.943333   \n",
      "27   0037f9462eff71b24f471fac0ca362f1  0.97       0.9    0.96    0.943333   \n",
      "28   695234761834a5f965ac118fb059f24c  0.97       0.9    0.96    0.943333   \n",
      "29   e3491a6bfdfd95d8324a4a918b847030  0.97       0.9    0.96    0.943333   \n",
      "..                                ...   ...       ...     ...         ...   \n",
      "166  0acbe34e6b9fe4e46378774edf843a81  0.97       0.9    0.96    0.943333   \n",
      "167  b0f3a280e283d4b8f6a9cee53fde7440  0.97       0.9    0.00    0.623333   \n",
      "168  f694b5b303bf1b67aae0fc2fc525825a  0.97       0.9    0.96    0.943333   \n",
      "169  887ccf27452c05b3317d610037d13c4a  0.97       0.9    0.96    0.943333   \n",
      "170  f06eaabda7732f78b80a6aa42272396f  0.97       0.9    0.00    0.623333   \n",
      "171  e201c66ea6ef85eb4c1e344213dc21bc  0.97       0.9    0.96    0.943333   \n",
      "172  d8bd8c10fdd35ba59389b9d12b04bc89  0.97       0.9    0.96    0.943333   \n",
      "173  b3ed065558272442749813fd3cc6ddf5  0.97       0.9    0.96    0.943333   \n",
      "174  8231e9682b6bbdbbbd1fb97ec981915a  0.97       0.9    0.96    0.943333   \n",
      "175  69180ef6ea471e7ca877f07ec3946f35  0.97       0.9    0.96    0.943333   \n",
      "176  9cdb5150fe3cc7a6108b9b22a2fe2513  0.97       0.9    0.96    0.943333   \n",
      "177  523087457efe416fbfcef9b8f4497aba  0.97       0.9    0.96    0.943333   \n",
      "178  a2fb7c9ee699030b410c325aa607132f  0.97       0.9    0.96    0.943333   \n",
      "179  b17239a531082076acdf974fc406df10  0.97       0.9    0.96    0.943333   \n",
      "180  9e47c29863abf28bf528923f0a776868  0.97       0.9    0.96    0.943333   \n",
      "181  2f61b6f1a64a6e0da784c7effeb054f2  0.97       0.9    0.96    0.943333   \n",
      "182  30fb67f5665f5ff6e8f850ecccd40eb1  0.97       0.9    0.96    0.943333   \n",
      "183  a9b0b701916cf9779d2aaa2d56551ead  0.97       0.9    0.96    0.943333   \n",
      "184  fdc95cb3b7c9a81229fce494ac0af40f  0.97       0.9    0.96    0.943333   \n",
      "185  da2326cdd7c2b30ccb53d96624241bbc  0.97       0.9    0.96    0.943333   \n",
      "186  3341f796cc11327c21c018dd36ec18c0  0.97       0.9    0.96    0.943333   \n",
      "187  7d799235359a59f9a6f90c3c37b0a574  0.97       0.9    0.96    0.943333   \n",
      "188  003fd8b8ac0ccd26b4fa17f9a8f0fc78  0.97       0.9    0.96    0.943333   \n",
      "189  e115825fdfd24fa2acc7f9d6ba3ca49e  0.97       0.9    0.00    0.623333   \n",
      "190  e466d54ab3d57709037b7031a831cd25  0.97       0.9    0.96    0.943333   \n",
      "191  ce5522406c7c4804347666d3f1c65993  0.97       0.9    0.96    0.943333   \n",
      "192  a622f6ba9d68812524a8d6137bfdabc3  0.97       0.9    0.96    0.943333   \n",
      "193  a3b4bb1e6867e358cd30bdb52fda1a32  0.97       0.9    0.96    0.943333   \n",
      "194  ac1373464e755c904655f7880d7e6628  0.97       0.9    0.96    0.943333   \n",
      "195  cd8d2363bc952b1f5e36e6dbdd0f3d80  0.97       0.9    0.96    0.943333   \n",
      "\n",
      "    apkid  \n",
      "0       1  \n",
      "1       1  \n",
      "2       0  \n",
      "3       0  \n",
      "4       1  \n",
      "5       0  \n",
      "6       0  \n",
      "7       1  \n",
      "8       0  \n",
      "9       0  \n",
      "10      0  \n",
      "11      0  \n",
      "12      0  \n",
      "13      0  \n",
      "14      0  \n",
      "15      0  \n",
      "16      0  \n",
      "17      0  \n",
      "18      0  \n",
      "19      0  \n",
      "20      0  \n",
      "21      0  \n",
      "22      0  \n",
      "23      0  \n",
      "24      0  \n",
      "25      0  \n",
      "26      0  \n",
      "27      0  \n",
      "28      0  \n",
      "29      0  \n",
      "..    ...  \n",
      "166     1  \n",
      "167     1  \n",
      "168     1  \n",
      "169     1  \n",
      "170     1  \n",
      "171     1  \n",
      "172     1  \n",
      "173     1  \n",
      "174     1  \n",
      "175     1  \n",
      "176     1  \n",
      "177     1  \n",
      "178     1  \n",
      "179     1  \n",
      "180     1  \n",
      "181     1  \n",
      "182     1  \n",
      "183     1  \n",
      "184     1  \n",
      "185     1  \n",
      "186     1  \n",
      "187     1  \n",
      "188     1  \n",
      "189     1  \n",
      "190     1  \n",
      "191     1  \n",
      "192     1  \n",
      "193     1  \n",
      "194     1  \n",
      "195     1  \n",
      "\n",
      "[196 rows x 6 columns]\n"
     ]
    }
   ],
   "source": [
    "integration_results = pd.DataFrame(columns=['md5', 'dex', 'manifest', 'assets', 'integrated', 'apkid'])\n",
    "for md5 in md5_list_packer:\n",
    "    # if the md5 is in dex_output, then it is the false positive case\n",
    "    test_dex = 0\n",
    "    test_man = 0 \n",
    "    test_asset = 0     \n",
    "    test_dex2 = 0 ## Python3 has some problem with division, dont' know why\n",
    "    test_man2 = 0\n",
    "    test_asset2 = 0\n",
    "    test_apkid = 1\n",
    "    test_integrated = 0\n",
    "    if md5 not in dex_output:\n",
    "        test_dex = 0.97  # Calculate in above section\n",
    "        test_dex2 = 0.97/3\n",
    "    if md5 in assets_out:\n",
    "        test_asset = 0.96\n",
    "        test_asset2 = 0.96/3\n",
    "    if md5 in manifest_out:\n",
    "        test_man =  0.90\n",
    "        test_man2 = 0.90/3\n",
    "    if md5 in packers_mapping:\n",
    "        test_apkid = packers_mapping[md5]\n",
    "    test_integrated = test_dex2 + test_asset2 + test_man2\n",
    "    row = {'md5':md5, \n",
    "           'dex':test_dex, \n",
    "           'manifest':test_man,\n",
    "           'assets':test_asset, \n",
    "           'integrated': test_integrated, \n",
    "           'apkid': test_apkid}\n",
    "    integration_results = integration_results.append(row, ignore_index=True)\n",
    "bypass_apkid_df = integration_results[integration_results['apkid'] == '0']\n",
    "\n",
    "print(integration_results[integration_results['manifest'] > 0])"
   ]
  },
  {
   "cell_type": "markdown",
   "metadata": {},
   "source": [
    "### GET THRESHOLD RESULT  = MIN VALUE OF INTEGRATED"
   ]
  },
  {
   "cell_type": "code",
   "execution_count": 22,
   "metadata": {},
   "outputs": [
    {
     "name": "stdout",
     "output_type": "stream",
     "text": [
      "Threshold: 0.62\n"
     ]
    }
   ],
   "source": [
    "packer_threashold = integration_results[integration_results['integrated'].ge(integration_results['integrated'].min())]\n",
    "print(\"Threshold: %s\" % integration_results['integrated'].min())"
   ]
  },
  {
   "cell_type": "markdown",
   "metadata": {},
   "source": [
    "#### TEST WITH BYPASS  APKID"
   ]
  },
  {
   "cell_type": "code",
   "execution_count": 23,
   "metadata": {},
   "outputs": [
    {
     "name": "stdout",
     "output_type": "stream",
     "text": [
      "{'110fb47546799790ea75a415b52cf433': '0', 'b31bf005ae801ba34c411674e98ad453': '0', 'caf4d41314854f1a22d897a82c73d3ff': '0', '88886e7eb25755e698ba4ff2d00b5fa7': '0', 'cd015c91c62cec19b5ee2d62144dbff8': '0', '003fd8b8ac0ccd26b4fa17f9a8f0fc78': '0', '4474382ebe9fbab8c7a61e558873be8f': '0', 'e3491a6bfdfd95d8324a4a918b847030': '0', '3ae61470ae9cd5f285a477ad90e1bf6a': '0', '6bfa76588cd9c6004f40a34c0fb6a44c': '1', '015515101a49f49a553f072b177ef8fd': '0', '278e1a48299ee929a98711ad8bd7ee53': '0', 'fdd2c6d20f92f89802803f623f1b501b': '0', '8c29773135f3008ac3b5e3dd10353524': '1', 'da2326cdd7c2b30ccb53d96624241bbc': '0', '74b8b38d224a7dfc626fa649b564f9be': '0', '0037f9462eff71b24f471fac0ca362f1': '0', '6e4976478d73f56eaeb024a427f98962': '0', '6cde0ad155ead2f525b807447012863f': '0', '9413a450ea47931103e184ccff3621e9': '0', '49348fdd228ec9b0596fa16897f6c8be': '0', '245025aa18d555ce38181a4e65b0078d': '0', '65b0e4a67aa9d6e8db88d4634497547c': '0', '55592a9beaa6ddd23e00f74257fdf35c': '0', 'aeb479ec285722e19ca4146b5089ecdf': '0', 'fc2cf24722b4854acd2a8cb08fd54a3f': '0', '7e8040f1046a2654d3e82175768a0af2': '0', '1de0c33ad57388d70e260f8ef45ec51a': '0', '67d52bbc0524ce6d63ebf46689477519': '0', 'f34be8c8913dbfef61dbf4df652d38e1': '0', 'e115825fdfd24fa2acc7f9d6ba3ca49e': '0', '8231e9682b6bbdbbbd1fb97ec981915a': '0', 'd8bd8c10fdd35ba59389b9d12b04bc89': '0', 'ac28d33a0ee0b7d4ee6a266e1aeccbf3': '0', 'c9d402fb6ad8c75d222c2cc47c997e23': '0', 'cd8d2363bc952b1f5e36e6dbdd0f3d80': '0', '6da1af9d0087c9f5aefc8fd12c966a15': '0', '4c74a388c0f085c6b9123d647ab896c7': '0', '9eca79138156355bb66d7b4e195e9f01': '0', '5ee36d4b4c2674302d4df4622d5ddf99': '0', 'af441931019acf56eb09371d17e9e0c0': '0', 'a3d582a22bb79c07f51b15c2a9f7b0c3': '0', '707213040e1bb4dd0774e642096ba555': '0', '818582bee441ffb7c8e1e536f628b343': '1', '6774bd046320f14ff7f9b73f06b3f3f9': '0', 'f6e038406b5c2ce0aa21ecab5e93b088': '0', 'a3b4bb1e6867e358cd30bdb52fda1a32': '0', '0dcbea5f1384c8dc54ec0a5e9065b2b3': '0', 'cc881bf76890246559fc83086cff1a73': '0', 'e48c6ce37f13ed3ab78e581794d99f31': '0', 'c21c5a701e3a14906795c295ca599db5': '0', '16a9387df5d3abdf4d2ee739d34b9ee4': '0', 'c77cf6da3cd3b3a4023e37b55d04db09': '0', '0fe13be7739f73c7372e12a9c4ee9dc0': '0', '17e52b3077be6f5f3ea079589583c6e8': '0', 'b465661fbae48cdabdf04374a6dfc36e': '1', '089d3ef140615b55e26bc9567b3e8420': '0', 'e1135be39829f31ccfe9832b758b16ff': '0', '7e51e79e54ab8927e8956a3a94290553': '0', '04717bd65e06dab0749b011afae55efa': '1', '10ef7e182fabce89627d410246cbd8e1': '1', 'b0f3a280e283d4b8f6a9cee53fde7440': '0', 'f9579d788c2e584d0fd57bb80a6d4e73': '0', '3f4845544924cc417fa82f39ba62d9ee': '0', '119bf9ad791901a1d898b2ba05133c57': '0', 'c27d0f1cf90b1952bc1910329b8dad5c': '0', '5ed3d8944c670788df3bef803b74ca43': '0', '2f61b6f1a64a6e0da784c7effeb054f2': '0', 'ca2a7e952f0fc6f33f8aae1cd5744325': '1', '22c366ff7ae2d14583739e52535c19d4': '0', 'dca19bf2991ab040d81b48f7ba038463': '0', '30fb67f5665f5ff6e8f850ecccd40eb1': '0', '2a7c6d31ba7be64de94a008f02fbb0b1': '0', '5589e44f2eca58b0b8237a4d8f9ba753': '0', '248508be7f0edfda1a47011cc584eaf2': '0', 'c7a85ee143cbaafa05efe3b53695e83e': '0', '27d6116c53b87b13ebf3d4c55ba13b44': '0', '36bb197c8f77bbfbb3a39bec6cfd9b45': '1', '5a1d4f0cfccbda58b1f77f878f4aaa01': '1', '0cdda8b42139874000d2918262041705': '1', '9cdb5150fe3cc7a6108b9b22a2fe2513': '0', 'f9950fa301831bda9ba2e18854f57c53': '0', 'ce5522406c7c4804347666d3f1c65993': '0', 'b97b7439e17bd5e55938019eb7a772f6': '0', '48daa07959bd8c63aaa1acd25ae65b2c': '0', '3e9f18d1966033d6d7ec7ecef6439065': '0', '57abfc722f731a1d54f2a90a0f8bdf7f': '0', '3ac37073c6d7163fc54a280749448246': '0', '5329f1fe17a189ee3a8a75d8287d8c02': '0', 'a87bf82ba706e429a63cdd28cbbfe3ef': '1', '1c8b5566f6ba1198b8110b6179f608ca': '0', 'fdc95cb3b7c9a81229fce494ac0af40f': '0', '03ab833b445152b813a2698467c1b5d1': '0', 'db29c5af9789d90b362eff313eb51a6c': '0', 'b2c54402c39d4bc4242d4ac5643f1c0b': '0', '463f7b3db3180a1a03d4ccf2638262f9': '0', 'a2fb7c9ee699030b410c325aa607132f': '0', '5174bec1b2b4259443b5d95b0f7e998c': '0', '412cb7d29b1d6438beea0383552521ac': '0', '2a96fbff342aee7adca6f03c56bf4be3': '0', '887ccf27452c05b3317d610037d13c4a': '0', 'd2e5d3946a55e93bf80812be9638d51a': '0', 'e7b701107cc96b526e520e6d8eeb1b12': '0', 'b22d1a08c59c66bb0c415a8e41837d6e': '0', 'acd8c7c2ffcfbf3435a014ac470e3e08': '0', '103e77c322d0ff96270c81aa19d81152': '0', '695234761834a5f965ac118fb059f24c': '0', 'cba6eeb6c18af7299c3d2f2194d87819': '0', '82f56f9814b08f9637ec98dd2b88475a': '0', 'f4739896a9f36fe50754c844303e21a2': '0', 'ee78a9de78a25a892da0bb8807c7460a': '0', '2f365f4fdafc3a9d3a281f616dec6513': '0', 'f4c79a01589a23620946ea2f2c23951e': '0', 'b97ab7570d8421f0235767dc224a0715': '1', '69180ef6ea471e7ca877f07ec3946f35': '0', 'b3ed065558272442749813fd3cc6ddf5': '0', '15217f9492224a971306faa44ba7fa5c': '0', '54a75c85907a64c9d45e52ab36c04405': '0', '6e513b96d30c7cbfb905f6de6728934f': '0', '3341f796cc11327c21c018dd36ec18c0': '0', '96a6a77acc45421459301bce581ea12b': '0', '6e732a35a9e877322e4dba1a951ed6ee': '0', '3354f44621222ef5fd9f29e031c48f34': '0', '89a2b42dcbbce7f3dcb6d46c55697809': '0', '18b4cf081186806eb66a07182cb50037': '0', 'c9802a53a8c6fdf2b699f4c3313676f2': '0', 'e75a226995ca04152b0007c96a675989': '0', '9e47c29863abf28bf528923f0a776868': '0', '2dc9f5b02c968faab2f2051c7990fda8': '0', '0bb05f22463b6656da43f4e04b431d25': '0', '69a0c63fe528d9630712e9ab140c1fcc': '0', '5f20ee91b4e16e85d6415f2690a7c7f2': '0', 'a6aec0e29dfcf7d9b6e06a62db28af63': '0', '390200ee362f927f26907f65951aa106': '0', 'fd09572925ebbcd197de0338e5481897': '0', 'fcab1fc815dfde567bcbc05234ebf52a': '0', '523087457efe416fbfcef9b8f4497aba': '0', '04a5220dc20168e11160dbd7cdfef862': '0', '3c38c23d519662210fd5cb75b84307e0': '0', '174d7911c5383776210d0234d313e1ad': '0', '2743c02dc247c5d748ab71df9d81b98e': '0', 'e728eeee667555801a0fbef87375488c': '0', '95065e27c839678a18157f5d8fd927dd': '0', '9162482fa0b82ff97d74028e030e9711': '0', '789acd383ae8ab071e69ad89468ad3bc': '0', 'c496f94d671b14f901a26641271b589e': '0', '7d74b7391df6a651a6a287888ae40b0a': '1', 'f06eaabda7732f78b80a6aa42272396f': '0', '1effd6feadd1691ca2e2a8310d03aba0': '0', 'd55fa879408f2845cbe7733efa86673e': '0', 'de94239804f274e1cc07b7a147f0b98b': '0', 'c183cf9f918c94485193a91d2fd5339d': '0', '25c216b330084d48dde4bcd5bccae41d': '0', 'c5b7eff87278a9f93bacc0fa48a20edc': '0', 'e99d81510ca224ea0a776c5e3cf9e1f1': '0', 'f3771520d33f5121e4d8ccc97a6c6d86': '0', 'a9b0b701916cf9779d2aaa2d56551ead': '0', '54aa4a592e3cdc845a9aeb71171a5b16': '1', 'ff8de501c3317b7bc312d3df73ad2a63': '1', 'bc7aa91373251c4788e09fa33e638e29': '0', 'a763b5dfb18adcd4cb181c79f8cef041': '0', '6e9dacd77ed584db897439b8cdee3f99': '0', 'f694b5b303bf1b67aae0fc2fc525825a': '0', '0acbe34e6b9fe4e46378774edf843a81': '0', '0074debe1662666ec6f4c1cb38a4f106': '0', 'f9ad5f1299ebb265759dc58657f82964': '1', 'a46236cfac91a9da879a40c0ecadade9': '0', '96004541050f2c51e4d1ad1971c5187f': '0', '972e8de3d1eed6554b6f19a4ec0f249c': '0', 'b622f13cd72d601fe0de02d34d77589b': '0', 'e470b8988a1141b69980c6435696756b': '1', 'b2e66bb15ab9da331613edb756ec38e6': '0', '138a81a8034c0e082dd35187515cfd50': '0', 'ac1373464e755c904655f7880d7e6628': '0', 'aaf6bfdf89da55c164a9d765019c2811': '0', 'ecc87acfe04b0c60f00c4a129215b0e9': '0', 'e466d54ab3d57709037b7031a831cd25': '0', 'a622f6ba9d68812524a8d6137bfdabc3': '0', '06e5793bddbfb4858f7b0f0a3871cc06': '0', '4e8bc3c4a010bd3a36c23b80ea1fa97c': '0', '7d799235359a59f9a6f90c3c37b0a574': '0', '19c96952db12255cc5eeb2645fd7bf07': '0', '7274b58e2a2e0d5c4d18cb5f7abe77c8': '0', 'e9622d71d7c2d8c08c8690bcf8f0e918': '0', 'e201c66ea6ef85eb4c1e344213dc21bc': '0', '661efbd9c49678d598b01c9e06e7d927': '1', '3f40bb959e009d657095f479bddedc80': '0', '5d7dc7f097258c2b4cf1096944f93286': '0', '79a9e791dcdf1174b0484886ab1de64c': '0', '11b19b97f2ff0e688c653afc64e688ce': '0', '1b9ccdfebaf5a7744bc46b91821eec63': '0', 'a62c39aad8dbb0bae70dabc78142e034': '0', 'b17239a531082076acdf974fc406df10': '0', '69e8f6e782b028ed975154dcd14dfb36': '0', '0a222de053c438eb3449a01fd49d7458': '1', '96f668fc0171e33c6cdf39ee2ce6b642': '0'}\n"
     ]
    }
   ],
   "source": [
    "BYPASS_FOLDER = \"bypass_apkid\"\n",
    "apkid_detect = {}\n",
    "for md5 in integration_results.md5.unique():\n",
    "    f = os.path.join(BYPASS_FOLDER, \"%s.apk\" % md5)\n",
    "    cmd = \"apkid %s | grep \\\"> packer\\\" | wc -l\" % f\n",
    "    out = _exec(cmd)\n",
    "    apkid_detect[md5] = out\n",
    "    \n",
    "print(apkid_detect)\n",
    "        "
   ]
  },
  {
   "cell_type": "code",
   "execution_count": 24,
   "metadata": {},
   "outputs": [
    {
     "name": "stdout",
     "output_type": "stream",
     "text": [
      "Detected: 19/196\n"
     ]
    }
   ],
   "source": [
    "count_detect = 0\n",
    "for md5, value in apkid_detect.items():\n",
    "    if int(value) > 0:\n",
    "        count_detect += 1\n",
    "print(\"Detected: %d/%d\" % (count_detect, len(apkid_detect)))"
   ]
  },
  {
   "cell_type": "markdown",
   "metadata": {},
   "source": [
    "# MAKE A RESULTS TABLE FOR NORMAL"
   ]
  },
  {
   "cell_type": "markdown",
   "metadata": {},
   "source": [
    "Count normal test with manifest "
   ]
  },
  {
   "cell_type": "code",
   "execution_count": 25,
   "metadata": {},
   "outputs": [
    {
     "name": "stdout",
     "output_type": "stream",
     "text": [
      "201\n"
     ]
    }
   ],
   "source": [
    "PREDICT_NORMAL_FILE = os.path.join(MANIFEST_DIR, \"predict_normal_integrated_output.pickle\") # all\n",
    "PREDICT_NORMAL_FILE_TN = os.path.join(MANIFEST_DIR, \"predict_normal_tn_integrated_output.pickle\") # True Negative\n",
    "if os.path.isfile(PREDICT_NORMAL_FILE):\n",
    "    with open(PREDICT_NORMAL_FILE, \"rb\") as f:\n",
    "        man_normal_df = pd.read_pickle(f)\n",
    "\n",
    "print(len(md5_list_normal))\n",
    "man_out_n = {}\n",
    "for n_md5 in md5_list_normal:\n",
    "    test_n = man_normal_df[man_normal_df['md5'] == n_md5]\n",
    "    man_out_n[n_md5] = 1 if test_n['predict'].item() != None else 0"
   ]
  },
  {
   "cell_type": "markdown",
   "metadata": {},
   "source": [
    "Count normal test with asset"
   ]
  },
  {
   "cell_type": "code",
   "execution_count": 26,
   "metadata": {},
   "outputs": [
    {
     "name": "stdout",
     "output_type": "stream",
     "text": [
      "201\n"
     ]
    }
   ],
   "source": [
    "ASSETS_NORMAL_TEST_DF = os.path.join(ASSETS_DIR, \"normal_test_df_output_27012019_v5.pickle\")\n",
    "if os.path.isfile(ASSETS_NORMAL_TEST_DF):\n",
    "    with open(ASSETS_NORMAL_TEST_DF, \"rb\") as fd:\n",
    "        assets_normal_df = pd.read_pickle(fd)\n",
    "        \n",
    "ass_out_n = {}\n",
    "for n_md5 in md5_list_normal:\n",
    "    test_n = assets_normal_df[assets_normal_df['app_md5'] == n_md5]\n",
    "    if test_n.empty:\n",
    "        ass_out_n[n_md5] = 0 # Not assets available\n",
    "    else:\n",
    "        ass_out_n[n_md5] = 1 if test_n['predict'].item() != None else 0\n",
    "    \n",
    "print(len(ass_out_n))"
   ]
  },
  {
   "cell_type": "markdown",
   "metadata": {},
   "source": [
    "Draw Normal Table, same with packer (only without APKiD)"
   ]
  },
  {
   "cell_type": "code",
   "execution_count": 27,
   "metadata": {},
   "outputs": [
    {
     "name": "stdout",
     "output_type": "stream",
     "text": [
      "                                  md5   dex manifest assets  integrated\n",
      "3    e56c85dcdebe2baf92c4015999d73456  0.99        0   0.97    0.653333\n",
      "15   7a73d5ffa92ef5ab2649d4f4e0cc9885  0.99    0.976      0    0.655333\n",
      "40   406b36c6f9b1a810633ff52e1e11c94a  0.99        0   0.97    0.653333\n",
      "66   8db696c55419cfa76739651834a56384  0.99    0.976      0    0.655333\n",
      "101  efae63ad2f4fca79aed85342e4d71825  0.99        0   0.97    0.653333\n",
      "117  8b5dc2940270328fb12fa92c8d23bce3  0.99    0.976      0    0.655333\n",
      "120  569c98203a5c947e1da0a588aab317ed  0.99    0.976      0    0.655333\n",
      "129  4ce0a12f0097ef27c853e3eccb49c457  0.99        0   0.97    0.653333\n",
      "139  0a5edb70fa83440420d04fd4e3e909f1  0.99        0   0.97    0.653333\n",
      "159  f37c270598188005c67dda4606acbbc6  0.99        0   0.97    0.653333\n",
      "173  9848f9285cb140c74a32d2d058660d08  0.99        0   0.97    0.653333\n",
      "183  2e4b99609fb67ffea9985b869ed42a32  0.99    0.976      0    0.655333\n",
      "197  d11959c336203ab08b6c53fcae18da57  0.99    0.976      0    0.655333\n"
     ]
    }
   ],
   "source": [
    "integration_n_results = pd.DataFrame(columns=['md5', 'dex', 'manifest', 'assets', 'integrated'])\n",
    "for n_md5 in md5_list_normal:\n",
    "    # if the md5 is in dex_output, then it is the false positive case\n",
    "    test_ndex = 0\n",
    "    test_ndex2 = 0 ## Python3 has some problem with division, dont' know why\n",
    "    test_nman = 0 \n",
    "    test_nman2 = 0\n",
    "    test_nasset = 0 \n",
    "    test_nasset2 = 0\n",
    "    test_nintegrated = 0\n",
    "    if n_md5 not in dex_output:\n",
    "        test_ndex = 0.99  # Calculate in above section\n",
    "        test_ndex2 = 0.99/3\n",
    "    if n_md5 in ass_out_n:\n",
    "        if ass_out_n[n_md5] == 1:\n",
    "            test_nasset = 0.97\n",
    "            test_nasset2 = 0.97/3\n",
    "    if n_md5 in man_out_n:\n",
    "        if man_out_n[n_md5] == 1:\n",
    "            test_nman =  0.976\n",
    "            test_nman2 = 0.976/3\n",
    "    test_nintegrated = test_ndex2 + test_nman2 + test_nasset2\n",
    "    row = {'md5':n_md5, \n",
    "           'dex':test_ndex, \n",
    "           'manifest':test_nman, \n",
    "           'assets':test_nasset, \n",
    "           'integrated': test_nintegrated}\n",
    "    integration_n_results = integration_n_results.append(row, ignore_index=True)\n",
    "print(integration_n_results[integration_n_results['integrated'] > 0.33])"
   ]
  },
  {
   "cell_type": "markdown",
   "metadata": {},
   "source": [
    "### GET THRESHOLD RESULT  = MIN VALUE OF INTEGRATED"
   ]
  },
  {
   "cell_type": "code",
   "execution_count": 28,
   "metadata": {},
   "outputs": [
    {
     "name": "stdout",
     "output_type": "stream",
     "text": [
      "Threshold: 0.6553333333333333\n"
     ]
    }
   ],
   "source": [
    "normal_threashold = integration_n_results[integration_n_results['integrated'].ge(integration_n_results['integrated'].max())]\n",
    "print(\"Threshold: %s\" % integration_n_results['integrated'].max())"
   ]
  },
  {
   "cell_type": "markdown",
   "metadata": {},
   "source": [
    "# MAKE A TABLE OF BOTH NORMAL AND PACKER\n",
    "\n",
    "Based on packer precision. We calculate this one to determine the threshold between packer and normal"
   ]
  },
  {
   "cell_type": "code",
   "execution_count": 29,
   "metadata": {},
   "outputs": [
    {
     "name": "stdout",
     "output_type": "stream",
     "text": [
      "Threshold For Normal: 0.31666666666666665\n"
     ]
    }
   ],
   "source": [
    "integration_n_results2 = pd.DataFrame(columns=['md5', 'dex', 'manifest', 'assets', 'integrated'])\n",
    "\n",
    "# THIS CALCULATION ONLY COUNT THE test_dex, test_asset, test_man if their result is not None\n",
    "for n_md5 in md5_list_normal:\n",
    "    # if the md5 is in dex_output, then it is the false positive case\n",
    "    test_dex = 0\n",
    "    test_dex2 = 0\n",
    "    test_man = 0 \n",
    "    test_man2 = 0 \n",
    "    test_asset = 0 \n",
    "    test_asset2 = 0 \n",
    "    test_integrated = 0\n",
    "    if n_md5 in dex_output:\n",
    "        dex_n_predict = dex_output[n_md5].split(\":\")[0]\n",
    "        dex_n_expect = dex_output[n_md5].split(\":\")[1]\n",
    "        # Get Non-packer app that model predicted as Packer \n",
    "        if dex_n_expect == 0 and dex_n_predict == 1: \n",
    "            test_dex = 0.97\n",
    "            test_dex2 = 0.97/3\n",
    "    # If asset model predicts as Packer, then add the packer precision score\n",
    "    if n_md5 in ass_out_n:\n",
    "        test_asset = 0.95 if ass_out_n[n_md5] == 1 else 0\n",
    "        if test_asset > 0:\n",
    "            test_asset2 = 0.95/3\n",
    "    # If manifest model predicts as Packer, then add the packer precision score\n",
    "    if n_md5 in man_out_n:\n",
    "        test_man =  0.90 if man_out_n[n_md5] == 1 else 0\n",
    "        if test_man > 0:\n",
    "            test_man2 = 0.9/3\n",
    "    test_integrated = test_dex2 + test_asset2 + test_man2\n",
    "    row = {'md5':md5, \n",
    "           'dex':test_dex, \n",
    "           'manifest':test_man,\n",
    "           'assets':test_asset, \n",
    "           'integrated': test_integrated\n",
    "          }\n",
    "    integration_n_results2 = integration_n_results2.append(row, ignore_index=True)\n",
    "integration_n_results2\n",
    "print(\"Threshold For Normal: %s\" % integration_n_results2['integrated'].max())"
   ]
  },
  {
   "cell_type": "markdown",
   "metadata": {},
   "source": [
    "Merge Two Test dataset (Packer & Non-packer) and draw graph to determine the threshold"
   ]
  },
  {
   "cell_type": "code",
   "execution_count": 31,
   "metadata": {},
   "outputs": [
    {
     "data": {
      "image/png": "[encoded data removed]",
      "text/plain": [
       "<Figure size 432x288 with 1 Axes>"
      ]
     },
     "metadata": {
      "needs_background": "light"
     },
     "output_type": "display_data"
    }
   ],
   "source": [
    "# Remove apkid from integration_results\n",
    "packer_predict_result = integration_results.drop(['apkid'], axis=1)\n",
    "# Label the dataframe\n",
    "packer_predict_result['packer'] = pd.Series(\"packer\", index=packer_predict_result.index)\n",
    "packer_value_list = packer_predict_result['integrated'].tolist()                                      \n",
    "integration_n_results2['packer'] = pd.Series(\"normal\", index=integration_n_results2.index)\n",
    "normal_value_list = integration_n_results2['integrated'].tolist()\n",
    "all_test = pd.concat([packer_predict_result, integration_n_results2])\n",
    "all_value_list =  np.array(all_test['integrated'].tolist())\n",
    "x = range(len(all_value_list))\n",
    "# BASED ON NORMAL THRESHOLD\n",
    "threshold = 0.33\n",
    "above_threshold = np.maximum(all_value_list - threshold, 0)\n",
    "below_threshold = np.minimum(all_value_list, threshold)\n",
    "fig, ax = plt.subplots()\n",
    "ax.bar(x, below_threshold, 0.35, color=\"g\")\n",
    "ax.bar(x, above_threshold, 0.35, color=\"r\",\n",
    "        bottom=below_threshold)\n",
    "\n",
    "# horizontal line indicating the threshold\n",
    "ax.plot([0., 400], [threshold, threshold], \"k--\")\n",
    "plt.savefig(os.path.join(BASE_DIR, 'integrated_normal.pdf'))"
   ]
  },
  {
   "cell_type": "code",
   "execution_count": 36,
   "metadata": {},
   "outputs": [
    {
     "data": {
      "image/png": "[encoded data removed]",
      "text/plain": [
       "<Figure size 432x288 with 1 Axes>"
      ]
     },
     "metadata": {
      "needs_background": "light"
     },
     "output_type": "display_data"
    }
   ],
   "source": [
    "x = range(len(all_value_list))\n",
    "# BASED ON PACKER THRESHOLD\n",
    "threshold = 0.6166666666666667\n",
    "above_threshold = np.maximum(all_value_list - threshold, 0)\n",
    "below_threshold = np.minimum(all_value_list, threshold)\n",
    "fig, ax = plt.subplots()\n",
    "ax.bar(x, below_threshold, 0.35, color=\"g\")\n",
    "ax.bar(x, above_threshold, 0.35, color=\"r\",\n",
    "        bottom=below_threshold)\n",
    "\n",
    "# horizontal line indicating the threshold\n",
    "ax.plot([0., 400], [threshold, threshold], \"k--\")\n",
    "plt.savefig(os.path.join(BASE_DIR, 'integrated_packer.eps'), format='eps', dpi=1000)"
   ]
  },
  {
   "cell_type": "code",
   "execution_count": 33,
   "metadata": {},
   "outputs": [
    {
     "data": {
      "image/png": "[encoded data removed]",
      "text/plain": [
       "<Figure size 432x288 with 1 Axes>"
      ]
     },
     "metadata": {
      "needs_background": "light"
     },
     "output_type": "display_data"
    }
   ],
   "source": [
    "x = range(len(all_value_list))\n",
    "# BASED ON PACKER THRESHOLD\n",
    "threshold = (0.6166666666666667 + 0.33) / 2\n",
    "above_threshold = np.maximum(all_value_list - threshold, 0)\n",
    "below_threshold = np.minimum(all_value_list, threshold)\n",
    "fig, ax = plt.subplots()\n",
    "ax.bar(x, below_threshold, 0.35, color=\"g\")\n",
    "ax.bar(x, above_threshold, 0.35, color=\"r\",\n",
    "        bottom=below_threshold)\n",
    "\n",
    "# horizontal line indicating the threshold\n",
    "ax.plot([0., 400], [threshold, threshold], \"k--\")\n",
    "plt.savefig(os.path.join(BASE_DIR, 'integrated_average.pdf'))"
   ]
  },
  {
   "cell_type": "code",
   "execution_count": 82,
   "metadata": {},
   "outputs": [
    {
     "name": "stdout",
     "output_type": "stream",
     "text": [
      "['cd8d2363bc952b1f5e36e6dbdd0f3d80']\n"
     ]
    }
   ],
   "source": [
    "print(integration_n_results2.md5.unique())"
   ]
  },
  {
   "cell_type": "code",
   "execution_count": null,
   "metadata": {},
   "outputs": [],
   "source": []
  }
 ],
 "metadata": {
  "kernelspec": {
   "display_name": "Python 3",
   "language": "python",
   "name": "python3"
  },
  "language_info": {
   "codemirror_mode": {
    "name": "ipython",
    "version": 3
   },
   "file_extension": ".py",
   "mimetype": "text/x-python",
   "name": "python",
   "nbconvert_exporter": "python",
   "pygments_lexer": "ipython3",
   "version": "3.5.2"
  }
 },
 "nbformat": 4,
 "nbformat_minor": 2
}
