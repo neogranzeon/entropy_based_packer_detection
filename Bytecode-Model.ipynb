{
 "cells": [
  {
   "cell_type": "markdown",
   "metadata": {},
   "source": [
    "# DEX Analysis with Entropy-based Feature Extraction and Histogram-based Classification"
   ]
  },
  {
   "cell_type": "code",
   "execution_count": 3,
   "metadata": {},
   "outputs": [],
   "source": [
    "# Copyright (C) 2019  Communication Network Security Laboratory, SSU, Seoul\n",
    "\n",
    "# This program is free software; you can redistribute it and/or modify\n",
    "# it under the terms of the GNU General Public License as published by\n",
    "# the Free Software Foundation; either version 2 of the License, or\n",
    "# (at your option) any later version.\n",
    "\n",
    "# This program is distributed in the hope that it will be useful,\n",
    "# but WITHOUT ANY WARRANTY; without even the implied warranty of\n",
    "# MERCHANTABILITY or FITNESS FOR A PARTICULAR PURPOSE.  See the\n",
    "# GNU General Public License for more details."
   ]
  },
  {
   "cell_type": "markdown",
   "metadata": {},
   "source": [
    "Note that all information should be extracted before.\n",
    "\n",
    "SVM Classification Test\n",
    "\n",
    "Import dependencies"
   ]
  },
  {
   "cell_type": "code",
   "execution_count": 4,
   "metadata": {},
   "outputs": [],
   "source": [
    "import os\n",
    "import configparser\n",
    "import pandas as pd\n",
    "import numpy as np\n",
    "import matplotlib.pyplot as plt\n",
    "import seaborn as sns\n",
    "from sklearn.model_selection import train_test_split"
   ]
  },
  {
   "cell_type": "code",
   "execution_count": 5,
   "metadata": {},
   "outputs": [],
   "source": [
    "class FeatureModel(object):\n",
    "    \"\"\"Model for classification.\"\"\"\n",
    "\n",
    "    def __init__(self):\n",
    "        \"\"\"Init.\"\"\"\n",
    "        from sklearn.feature_extraction.text import CountVectorizer\n",
    "        from sklearn.feature_extraction.text import TfidfTransformer\n",
    "\n",
    "        self.count_vect = CountVectorizer()\n",
    "        self.tfidf_transformer = TfidfTransformer()\n",
    "        config = configparser.ConfigParser()\n",
    "        config.read(\"config\")\n",
    "        self.bytecode_dir = config.get(\"Data\", \"Bytecode\")\n",
    "\n",
    "    def train_knn(self, X_train, y_train, X_test, neighbors=4):\n",
    "        from sklearn.neighbors import KNeighborsClassifier\n",
    "        knn_model = KNeighborsClassifier(algorithm='auto', leaf_size=30, metric='minkowski',\n",
    "           metric_params=None, n_jobs=1, n_neighbors=neighbors, p=2,\n",
    "           weights='uniform')\n",
    "        # knn_model = KNeighborsClassifier(n_neighbors=neighbors)\n",
    "        knn_model.fit(X_train, y_train)\n",
    "        y_predicted = knn_model.predict(X_test)\n",
    "        return y_predicted\n",
    "    \n",
    "    def train_svm(self, X_train, y_train, X_test):\n",
    "        from sklearn import svm\n",
    "        clf = svm.SVC(gamma='auto')\n",
    "        clf.fit(X, y)\n",
    "        y_predicted = clf.predict(X_test)\n",
    "        return y_predicted\n",
    "                \n",
    "    def train_naiveBayes(self, features, labels, test_v):\n",
    "        \"\"\"Train with naiveBayes.\"\"\"\n",
    "        from sklearn.model_selection import train_test_split\n",
    "        from sklearn.naive_bayes import MultinomialNB\n",
    "        X_train, X_test, y_train, y_test = train_test_split(features,\n",
    "                                                            labels,\n",
    "                                                            random_state=8586)\n",
    "        X_train_counts = self.count_vect.fit_transform(X_train)\n",
    "        X_train_tfidf = self.tfidf_transformer.fit_transform(X_train_counts)\n",
    "        self.clf = MultinomialNB().fit(X_train_tfidf, y_train)\n",
    "        return self.clf.predict(self.count_vect.transform([test_v]))\n",
    "    \n",
    "def plot_2d_space(X, y, label='Classes'):   \n",
    "    colors = ['#1F77B4', '#FF7F0E']\n",
    "    markers = ['o', 's']\n",
    "    for l, c, m in zip(np.unique(y), colors, markers):\n",
    "        plt.scatter(\n",
    "            X[y==l, 0],\n",
    "            X[y==l, 1],\n",
    "            c=c, label=l, marker=m\n",
    "        )\n",
    "    plt.title(label)\n",
    "    plt.legend(loc='upper right')\n",
    "    plt.show()"
   ]
  },
  {
   "cell_type": "code",
   "execution_count": 6,
   "metadata": {},
   "outputs": [],
   "source": [
    "config = configparser.ConfigParser()\n",
    "config.read(\"config\")\n",
    "bytecode_dir = config.get(\"Data\", \"Bytecode\") \n",
    "total_dir = config.get(\"Data\", \"Total\") \n",
    "\n",
    "all_df = pd.DataFrame()\n",
    "for f in os.listdir(bytecode_dir):\n",
    "    if all(x in f for x in ['df_packer']):\n",
    "        df = pd.read_json(os.path.join(bytecode_dir, f))\n",
    "        all_df = all_df.append(df)\n",
    "for f in os.listdir(total_dir):\n",
    "    if all(x in f for x in ['W64', 'uvs']):\n",
    "        df = pd.read_json(os.path.join(total_dir, f))\n",
    "        all_df = all_df.append(df)\n",
    "\n",
    "packer_df = all_df[all_df['packer'] != \"Normal\"]\n",
    "normal_df = all_df[all_df['packer'] == \"Normal\"]\n",
    "\n",
    "\n"
   ]
  },
  {
   "cell_type": "code",
   "execution_count": 7,
   "metadata": {},
   "outputs": [
    {
     "data": {
      "image/png": "[encoded data removed]",
      "text/plain": [
       "<Figure size 432x288 with 1 Axes>"
      ]
     },
     "metadata": {
      "needs_background": "light"
     },
     "output_type": "display_data"
    }
   ],
   "source": [
    "ax = sns.countplot(y=\"packer\", data=packer_df)"
   ]
  },
  {
   "cell_type": "code",
   "execution_count": 8,
   "metadata": {},
   "outputs": [
    {
     "name": "stdout",
     "output_type": "stream",
     "text": [
      "501\n",
      "15749\n"
     ]
    },
    {
     "name": "stderr",
     "output_type": "stream",
     "text": [
      "/media/disk3/git_projects/packer_fuzzy/analysis_2/virtual_proj2/lib/python3.5/site-packages/ipykernel_launcher.py:3: SettingWithCopyWarning: \n",
      "A value is trying to be set on a copy of a slice from a DataFrame.\n",
      "Try using .loc[row_indexer,col_indexer] = value instead\n",
      "\n",
      "See the caveats in the documentation: http://pandas.pydata.org/pandas-docs/stable/indexing.html#indexing-view-versus-copy\n",
      "  This is separate from the ipykernel package so we can avoid doing imports until\n"
     ]
    }
   ],
   "source": [
    "print(len(packer_df.index))\n",
    "print(len(normal_df.index))\n",
    "packer_df['packer'] = \"Packer\"\n",
    "# packer_all['packer'].value_counts()"
   ]
  },
  {
   "cell_type": "markdown",
   "metadata": {},
   "source": [
    "Apply Random Under-sampling"
   ]
  },
  {
   "cell_type": "code",
   "execution_count": 9,
   "metadata": {},
   "outputs": [
    {
     "name": "stderr",
     "output_type": "stream",
     "text": [
      "ERROR:root:Internal Python error in the inspect module.\n",
      "Below is the traceback from this internal error.\n",
      "\n"
     ]
    },
    {
     "name": "stdout",
     "output_type": "stream",
     "text": [
      "Traceback (most recent call last):\n",
      "  File \"/media/disk3/git_projects/packer_fuzzy/analysis_2/virtual_proj2/lib/python3.5/site-packages/IPython/core/interactiveshell.py\", line 3267, in run_code\n",
      "    exec(code_obj, self.user_global_ns, self.user_ns)\n",
      "  File \"<ipython-input-9-1b39a19e5cdd>\", line 23, in <module>\n",
      "    all_df['binned'] = all_df['feature'].apply(lamda_func)\n",
      "  File \"/media/disk3/git_projects/packer_fuzzy/analysis_2/virtual_proj2/lib/python3.5/site-packages/pandas/core/series.py\", line 2551, in apply\n",
      "    mapped = lib.map_infer(values, f, convert=convert_dtype)\n",
      "  File \"pandas/_libs/src/inference.pyx\", line 1521, in pandas._libs.lib.map_infer\n",
      "  File \"<ipython-input-9-1b39a19e5cdd>\", line 8, in lamda_func\n",
      "    test = np.sum([output[i], 1], dtype=int)\n",
      "  File \"/media/disk3/git_projects/packer_fuzzy/analysis_2/virtual_proj2/lib/python3.5/site-packages/numpy/core/fromnumeric.py\", line 1930, in sum\n",
      "    initial=initial)\n",
      "  File \"/media/disk3/git_projects/packer_fuzzy/analysis_2/virtual_proj2/lib/python3.5/site-packages/numpy/core/fromnumeric.py\", line 70, in _wrapreduction\n",
      "    if type(obj) is not mu.ndarray:\n",
      "KeyboardInterrupt\n",
      "\n",
      "During handling of the above exception, another exception occurred:\n",
      "\n",
      "Traceback (most recent call last):\n",
      "  File \"/media/disk3/git_projects/packer_fuzzy/analysis_2/virtual_proj2/lib/python3.5/site-packages/IPython/core/interactiveshell.py\", line 2018, in showtraceback\n",
      "    stb = value._render_traceback_()\n",
      "AttributeError: 'KeyboardInterrupt' object has no attribute '_render_traceback_'\n",
      "\n",
      "During handling of the above exception, another exception occurred:\n",
      "\n",
      "Traceback (most recent call last):\n",
      "  File \"/media/disk3/git_projects/packer_fuzzy/analysis_2/virtual_proj2/lib/python3.5/site-packages/IPython/core/ultratb.py\", line 1095, in get_records\n",
      "    return _fixed_getinnerframes(etb, number_of_lines_of_context, tb_offset)\n",
      "  File \"/media/disk3/git_projects/packer_fuzzy/analysis_2/virtual_proj2/lib/python3.5/site-packages/IPython/core/ultratb.py\", line 313, in wrapped\n",
      "    return f(*args, **kwargs)\n",
      "  File \"/media/disk3/git_projects/packer_fuzzy/analysis_2/virtual_proj2/lib/python3.5/site-packages/IPython/core/ultratb.py\", line 347, in _fixed_getinnerframes\n",
      "    records = fix_frame_records_filenames(inspect.getinnerframes(etb, context))\n",
      "  File \"/usr/lib/python3.5/inspect.py\", line 1453, in getinnerframes\n",
      "    frameinfo = (tb.tb_frame,) + getframeinfo(tb, context)\n",
      "  File \"/usr/lib/python3.5/inspect.py\", line 1414, in getframeinfo\n",
      "    lines, lnum = findsource(frame)\n",
      "  File \"/media/disk3/git_projects/packer_fuzzy/analysis_2/virtual_proj2/lib/python3.5/site-packages/IPython/core/ultratb.py\", line 167, in findsource\n",
      "    file = getsourcefile(object) or getfile(object)\n",
      "  File \"/usr/lib/python3.5/inspect.py\", line 672, in getsourcefile\n",
      "    if getattr(getmodule(object, filename), '__loader__', None) is not None:\n",
      "  File \"/usr/lib/python3.5/inspect.py\", line 709, in getmodule\n",
      "    if ismodule(module) and hasattr(module, '__file__'):\n",
      "KeyboardInterrupt\n"
     ]
    },
    {
     "ename": "KeyboardInterrupt",
     "evalue": "",
     "output_type": "error",
     "traceback": [
      "\u001b[0;31m---------------------------------------------------------------------------\u001b[0m"
     ]
    }
   ],
   "source": [
    "from sklearn.model_selection import train_test_split\n",
    "from collections import Counter\n",
    "from sklearn import preprocessing\n",
    "\n",
    "def lamda_func(x):\n",
    "    output = np.zeros(11, dtype=int)\n",
    "    for i in x:\n",
    "        test = np.sum([output[i], 1], dtype=int)\n",
    "        output[i] = test\n",
    "    return output\n",
    "\n",
    "def packerization(x):\n",
    "    if x != \"Normal\":\n",
    "        return \"Packer\"\n",
    "    return x\n",
    "\n",
    "# Packerlization and Under-sampling\n",
    "# Turn all types of Packer name into single name: \"Packer\"\n",
    "lb = preprocessing.LabelEncoder()\n",
    "all_df['packer_label'] = all_df['packer']\n",
    "all_df['packer_label'] = all_df['packer_label'].apply(packerization)\n",
    "all_df['packer_label'] = lb.fit_transform(all_df['packer_label'])\n",
    "all_df['binned'] = all_df['feature'].apply(lamda_func)\n",
    "\n",
    "# Create X, y\n",
    "X = all_df['binned']\n",
    "y = all_df['packer_label']\n",
    "X = np.array(list(X), dtype=np.int)\n",
    "y = np.array(list(y), dtype=np.int)\n",
    "\n",
    "target_count = all_df.packer_label.value_counts()\n",
    "print('Normal (0):', target_count[0])\n",
    "print('Packer (1):', target_count[1])\n",
    "print('Proportion:', round(target_count[0] / target_count[1], 2), ': 1')\n",
    "\n",
    "target_count.plot(kind='bar', title='Count (target)');\n",
    "\n",
    "#normal_subset_df = normal_df.sample(252, random_state=123)\n",
    "#experiments_df = mj_pack.append(normal_subset_df)\n",
    "#all_df = experiments_df"
   ]
  },
  {
   "cell_type": "code",
   "execution_count": null,
   "metadata": {},
   "outputs": [],
   "source": [
    "# RAndom under-sampling\n",
    "# Class count\n",
    "count_class_0, count_class_1 = all_df.packer_label.value_counts()\n",
    "\n",
    "# Divide by class\n",
    "df_class_0 = all_df[all_df['packer_label'] == 0]\n",
    "df_class_1 = all_df[all_df['packer_label'] == 1]\n",
    "\n",
    "df_class_0_under = df_class_0.sample(count_class_1, random_state=1758)\n",
    "df_test_under = pd.concat([df_class_0_under, df_class_1], axis=0)\n",
    "\n",
    "print('Random under-sampling:')\n",
    "print(df_test_under.packer_label.value_counts(sort=False))\n",
    "\n",
    "df_test_under.packer_label.value_counts(sort=False).plot(kind='bar', title='Count (target)');"
   ]
  },
  {
   "cell_type": "markdown",
   "metadata": {},
   "source": [
    "Implementation on SVM Classification Prediction"
   ]
  },
  {
   "cell_type": "code",
   "execution_count": 25,
   "metadata": {},
   "outputs": [
    {
     "data": {
      "image/png": "[encoded data removed]",
      "text/plain": [
       "<Figure size 432x288 with 2 Axes>"
      ]
     },
     "metadata": {
      "needs_background": "light"
     },
     "output_type": "display_data"
    }
   ],
   "source": [
    "# Create X, y data\n",
    "X = df_test_under['binned']\n",
    "y = df_test_under['packer_label']\n",
    "X = np.array(list(X), dtype=np.int)\n",
    "y = np.array(list(y), dtype=np.int)\n",
    "X_train, X_test, y_train, y_test = train_test_split(X,\n",
    "                                                    y,\n",
    "                                                    test_size=0.4,random_state=8586)\n",
    "feature_model = FeatureModel()\n",
    "# Make all df same size\n",
    "from sklearn.metrics import confusion_matrix\n",
    "\n",
    "# Make all feature vector same size\n",
    "y_pred = feature_model.train_svm(X_train, y_train, X_test)\n",
    "conf_mat = confusion_matrix(y_test,y_pred)\n",
    "\n",
    "labels = ['Normal', 'Packer']\n",
    "fig = plt.figure()\n",
    "ax = fig.add_subplot(111)\n",
    "cax = ax.matshow(conf_mat, cmap=plt.cm.Blues)\n",
    "fig.colorbar(cax)\n",
    "ax.set_xticklabels([''] + labels)\n",
    "ax.set_yticklabels([''] + labels)\n",
    "plt.xlabel('Predicted')\n",
    "plt.ylabel('Expected')\n",
    "plt.show()"
   ]
  },
  {
   "cell_type": "code",
   "execution_count": 26,
   "metadata": {},
   "outputs": [
    {
     "name": "stdout",
     "output_type": "stream",
     "text": [
      "0 equals: ['Normal']\n"
     ]
    },
    {
     "data": {
      "text/html": [
       "<div>\n",
       "<style scoped>\n",
       "    .dataframe tbody tr th:only-of-type {\n",
       "        vertical-align: middle;\n",
       "    }\n",
       "\n",
       "    .dataframe tbody tr th {\n",
       "        vertical-align: top;\n",
       "    }\n",
       "\n",
       "    .dataframe thead th {\n",
       "        text-align: right;\n",
       "    }\n",
       "</style>\n",
       "<table border=\"1\" class=\"dataframe\">\n",
       "  <thead>\n",
       "    <tr style=\"text-align: right;\">\n",
       "      <th>Predicted</th>\n",
       "      <th>0</th>\n",
       "      <th>1</th>\n",
       "      <th>All</th>\n",
       "    </tr>\n",
       "    <tr>\n",
       "      <th>True</th>\n",
       "      <th></th>\n",
       "      <th></th>\n",
       "      <th></th>\n",
       "    </tr>\n",
       "  </thead>\n",
       "  <tbody>\n",
       "    <tr>\n",
       "      <th>0</th>\n",
       "      <td>209</td>\n",
       "      <td>2</td>\n",
       "      <td>211</td>\n",
       "    </tr>\n",
       "    <tr>\n",
       "      <th>1</th>\n",
       "      <td>2</td>\n",
       "      <td>188</td>\n",
       "      <td>190</td>\n",
       "    </tr>\n",
       "    <tr>\n",
       "      <th>All</th>\n",
       "      <td>211</td>\n",
       "      <td>190</td>\n",
       "      <td>401</td>\n",
       "    </tr>\n",
       "  </tbody>\n",
       "</table>\n",
       "</div>"
      ],
      "text/plain": [
       "Predicted    0    1  All\n",
       "True                    \n",
       "0          209    2  211\n",
       "1            2  188  190\n",
       "All        211  190  401"
      ]
     },
     "execution_count": 26,
     "metadata": {},
     "output_type": "execute_result"
    }
   ],
   "source": [
    "print(\"0 equals: %s\" % lb.inverse_transform([0]))\n",
    "\n",
    "pd.crosstab(y_test, y_pred, rownames=['True'], colnames=['Predicted'], margins=True)"
   ]
  },
  {
   "cell_type": "code",
   "execution_count": 18,
   "metadata": {},
   "outputs": [
    {
     "name": "stdout",
     "output_type": "stream",
     "text": [
      "              precision    recall  f1-score   support\n",
      "\n",
      "           0       0.91      0.75      0.82       211\n",
      "           1       0.77      0.92      0.84       190\n",
      "\n",
      "   micro avg       0.83      0.83      0.83       401\n",
      "   macro avg       0.84      0.83      0.83       401\n",
      "weighted avg       0.84      0.83      0.83       401\n",
      "\n"
     ]
    }
   ],
   "source": [
    "#import classification_report\n",
    "from sklearn.metrics import classification_report\n",
    "print(classification_report(y_test,y_pred))"
   ]
  },
  {
   "cell_type": "code",
   "execution_count": 11,
   "metadata": {},
   "outputs": [
    {
     "data": {
      "image/png": "[encoded data removed]",
      "text/plain": [
       "<Figure size 432x288 with 1 Axes>"
      ]
     },
     "metadata": {
      "needs_background": "light"
     },
     "output_type": "display_data"
    }
   ],
   "source": [
    "from sklearn import svm\n",
    "svm_obj = svm.SVC(gamma='scale', probability=True)\n",
    "svm_obj.fit(X,y)\n",
    "y_pred_proba = svm_obj.predict_proba(X_test)[:,1]\n",
    "from sklearn.metrics import roc_curve\n",
    "fpr, tpr, thresholds = roc_curve(y_test, y_pred_proba)\n",
    "plt.plot([0,1],[0,1],'k--')\n",
    "plt.plot(fpr,tpr, label='Svm')\n",
    "plt.xlabel('fpr')\n",
    "plt.ylabel('tpr')\n",
    "plt.title('Svm ROC curve')\n",
    "plt.show()"
   ]
  },
  {
   "cell_type": "code",
   "execution_count": 12,
   "metadata": {},
   "outputs": [
    {
     "data": {
      "text/plain": [
       "0.9147221254788794"
      ]
     },
     "execution_count": 12,
     "metadata": {},
     "output_type": "execute_result"
    }
   ],
   "source": [
    "#Area under ROC curve\n",
    "from sklearn.metrics import roc_auc_score\n",
    "roc_auc_score(y_test,y_pred_proba)"
   ]
  },
  {
   "cell_type": "markdown",
   "metadata": {},
   "source": [
    "Cross-Validation"
   ]
  },
  {
   "cell_type": "code",
   "execution_count": 13,
   "metadata": {},
   "outputs": [
    {
     "data": {
      "text/plain": [
       "GridSearchCV(cv=5, error_score='raise-deprecating',\n",
       "       estimator=SVC(C=1.0, cache_size=200, class_weight=None, coef0=0.0,\n",
       "  decision_function_shape='ovr', degree=3, gamma='scale', kernel='rbf',\n",
       "  max_iter=-1, probability=False, random_state=None, shrinking=True,\n",
       "  tol=0.001, verbose=False),\n",
       "       fit_params=None, iid='warn', n_jobs=None,\n",
       "       param_grid={'kernel': ('linear', 'rbf'), 'C': [1, 10]},\n",
       "       pre_dispatch='2*n_jobs', refit=True, return_train_score='warn',\n",
       "       scoring=None, verbose=0)"
      ]
     },
     "execution_count": 13,
     "metadata": {},
     "output_type": "execute_result"
    }
   ],
   "source": [
    "#import GridSearchCV\n",
    "from sklearn.model_selection import GridSearchCV\n",
    "#In case of classifier like knn the parameter to be tuned is n_neighbors\n",
    "parameters = {'kernel':('linear', 'rbf'), 'C':[1, 10]}\n",
    "svc = svm.SVC(gamma=\"scale\")\n",
    "clf = GridSearchCV(svc, parameters, cv=5)\n",
    "clf.fit(X, y)"
   ]
  },
  {
   "cell_type": "code",
   "execution_count": 76,
   "metadata": {},
   "outputs": [
    {
     "data": {
      "text/plain": [
       "0.7243589743589743"
      ]
     },
     "execution_count": 76,
     "metadata": {},
     "output_type": "execute_result"
    }
   ],
   "source": [
    "clf.best_score_"
   ]
  },
  {
   "cell_type": "code",
   "execution_count": 77,
   "metadata": {},
   "outputs": [
    {
     "data": {
      "text/plain": [
       "{'C': 10, 'kernel': 'rbf'}"
      ]
     },
     "execution_count": 77,
     "metadata": {},
     "output_type": "execute_result"
    }
   ],
   "source": [
    "clf.best_params_"
   ]
  },
  {
   "cell_type": "code",
   "execution_count": null,
   "metadata": {},
   "outputs": [],
   "source": []
  }
 ],
 "metadata": {
  "kernelspec": {
   "display_name": "Python 3",
   "language": "python",
   "name": "python3"
  },
  "language_info": {
   "codemirror_mode": {
    "name": "ipython",
    "version": 3
   },
   "file_extension": ".py",
   "mimetype": "text/x-python",
   "name": "python",
   "nbconvert_exporter": "python",
   "pygments_lexer": "ipython3",
   "version": "3.5.2"
  }
 },
 "nbformat": 4,
 "nbformat_minor": 2
}
